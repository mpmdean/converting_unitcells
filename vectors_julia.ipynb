{
 "cells": [
  {
   "cell_type": "markdown",
   "id": "4e495176-8c07-4bb0-afa2-8e3edb957fce",
   "metadata": {},
   "source": [
    "Here we show show to convenient equations for converting between real and reciprocal space and between different unit cell notations. "
   ]
  },
  {
   "cell_type": "code",
   "execution_count": 5,
   "id": "91f08b6b-9300-4e50-8b81-a25493795f49",
   "metadata": {},
   "outputs": [],
   "source": [
    "using LinearAlgebra"
   ]
  },
  {
   "cell_type": "markdown",
   "id": "278f7dd6-b26d-4ef4-b340-a5b00a7bbbbc",
   "metadata": {},
   "source": [
    "# Setup\n",
    "Let's take the case of graphene and consider (i) the minimal graphene cell (dotted blue) and (ii) a hypothetical magnetic unit cell (in black). We will define the constant $a$ to be the length of one side of a hexagon."
   ]
  },
  {
   "cell_type": "markdown",
   "id": "620bda95-2f97-44cd-897c-267e3269b4c0",
   "metadata": {},
   "source": [
    "<img src=\"unit_cells.png\">"
   ]
  },
  {
   "cell_type": "markdown",
   "id": "635c799f-9afb-46cf-9794-f5856af31646",
   "metadata": {},
   "source": [
    "# Graphene lattice\n",
    "Let's start with the minimal graphene cell and write down the lattice vectors."
   ]
  },
  {
   "cell_type": "code",
   "execution_count": 11,
   "id": "49b3f2e9-7f58-44d6-aa60-38f1bc18c928",
   "metadata": {},
   "outputs": [
    {
     "data": {
      "text/plain": [
       "1×2 Matrix{Float64}:\n",
       " 0.866025  1.5"
      ]
     },
     "execution_count": 11,
     "metadata": {},
     "output_type": "execute_result"
    }
   ],
   "source": [
    "a = 1\n",
    "a1 = a*[sqrt(3)     0]\n",
    "a2 = a*[sqrt(3)/2 3/2]"
   ]
  },
  {
   "cell_type": "markdown",
   "id": "7339c781-0d6a-4bbd-a2b3-9442eaa43bce",
   "metadata": {},
   "source": [
    "A useful matrix-based way to find the reciprocal lattice vectors is the following:"
   ]
  },
  {
   "cell_type": "code",
   "execution_count": 12,
   "id": "bea6a958-74b6-48af-87ea-ddf91d2b311b",
   "metadata": {},
   "outputs": [
    {
     "name": "stdout",
     "output_type": "stream",
     "text": [
      "b1=2π[0.5773502691896258, -0.33333333333333337]\n",
      "b2=2π[0.0, 0.6666666666666666]"
     ]
    }
   ],
   "source": [
    "A = [a1' a2']\n",
    "B = 2*π*transpose(inv(A))\n",
    "\n",
    "b1 = B[:, 1]\n",
    "b2 = B[:, 2]\n",
    "\n",
    "print(\"b1=2π$(b1/2π)\\n\")\n",
    "print(\"b2=2π$(b2/2π)\")"
   ]
  },
  {
   "cell_type": "markdown",
   "id": "0a4fac44-ab61-4cfb-9e24-35a37380aab9",
   "metadata": {},
   "source": [
    "Calculate volume of the BZ and confirm consistency with the analytical values provided by KW."
   ]
  },
  {
   "cell_type": "markdown",
   "id": "b3f230c7-411d-44cc-901c-0b5d9b20e465",
   "metadata": {},
   "source": [
    "The volume of the BZ can be determined using a matrix determinate. Let's further confirm consistency with the analytical values for the volume determined on paper."
   ]
  },
  {
   "cell_type": "code",
   "execution_count": 13,
   "id": "f4b6e01f-a38c-48fc-9cdc-c12225432906",
   "metadata": {},
   "outputs": [
    {
     "data": {
      "text/plain": [
       "true"
      ]
     },
     "execution_count": 13,
     "metadata": {},
     "output_type": "execute_result"
    }
   ],
   "source": [
    "det(B) ≈ (4*π^2)*2/(3*sqrt(3))"
   ]
  },
  {
   "cell_type": "markdown",
   "id": "88193df7-101b-4f43-a92f-a04fc4b3ca2a",
   "metadata": {},
   "source": [
    "# Magnetic lattice\n",
    "The same exercise can be done for the magnetic cell as follows"
   ]
  },
  {
   "cell_type": "code",
   "execution_count": 5,
   "id": "932a5ba8-2afc-49ec-8f9a-9f54e1ece6f0",
   "metadata": {},
   "outputs": [
    {
     "name": "stdout",
     "output_type": "stream",
     "text": [
      "b1m=2π[0.5773502691896258, 0.0]\n",
      "b2m=2π[0.0, 0.3333333333333333]"
     ]
    }
   ],
   "source": [
    "a1m = a*[sqrt(3)     0]\n",
    "a2m = a*[0 3]\n",
    "Am = [a1m' a2m']\n",
    "\n",
    "Bm = 2*π*transpose(inv(Am))\n",
    "\n",
    "b1m = Bm[:, 1]\n",
    "b2m = Bm[:, 2]\n",
    "\n",
    "print(\"b1m=2π$(b1m/2π)\\n\")\n",
    "print(\"b2m=2π$(b2m/2π)\")"
   ]
  },
  {
   "cell_type": "markdown",
   "id": "6597d762-67b3-4bd1-b3e1-e14d037b2e88",
   "metadata": {},
   "source": [
    "Confirm that magnetic cell is half the size as expected"
   ]
  },
  {
   "cell_type": "code",
   "execution_count": 6,
   "id": "bc811512-2d41-4ff8-8560-1aadad547aa4",
   "metadata": {},
   "outputs": [
    {
     "data": {
      "text/plain": [
       "0.5"
      ]
     },
     "execution_count": 6,
     "metadata": {},
     "output_type": "execute_result"
    }
   ],
   "source": [
    "det(Bm) / det(B)"
   ]
  },
  {
   "cell_type": "markdown",
   "id": "e49941e0-bf83-442d-a70d-0d39d552091f",
   "metadata": {},
   "source": [
    "# Conversion matrix\n",
    "To construct a conversion matrix. Work out how to write the new basis vector (in this case the magnetic cell) in terms of the old basis vectors \n",
    "\n",
    "$b_{1m} = b_1 + b_2/2$  \n",
    "$b_{2m} =  b_2/2$\n",
    "\n",
    "and write these as the columns of a matrix. This matrix converts the new vectors to the old vectors. The converse old to new conversion is obtained "
   ]
  },
  {
   "cell_type": "code",
   "execution_count": 10,
   "id": "cc27aaac-747a-48fc-8fdb-24d9782329c0",
   "metadata": {},
   "outputs": [
    {
     "data": {
      "text/plain": [
       "2-element Vector{Float64}:\n",
       " 1.0\n",
       " 0.5"
      ]
     },
     "execution_count": 10,
     "metadata": {},
     "output_type": "execute_result"
    }
   ],
   "source": [
    "Mm2g = [1   0;\n",
    "    1/2 1/2]\n",
    "\n",
    "Mg2m = inv(Mm2g)\n",
    "\n",
    "Mm2g * [1;\n",
    "        0]"
   ]
  }
 ],
 "metadata": {
  "kernelspec": {
   "display_name": "Julia 1.8.0",
   "language": "julia",
   "name": "julia-1.8"
  },
  "language_info": {
   "file_extension": ".jl",
   "mimetype": "application/julia",
   "name": "julia",
   "version": "1.8.0"
  }
 },
 "nbformat": 4,
 "nbformat_minor": 5
}
