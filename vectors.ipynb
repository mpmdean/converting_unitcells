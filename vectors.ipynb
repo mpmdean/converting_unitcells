{
 "cells": [
  {
   "cell_type": "markdown",
   "id": "13633fd5-8b0e-4375-a078-e96f43c177b5",
   "metadata": {},
   "source": [
    "Here we show show some convenient equations for converting between real and reciprocal space and between different unit cell notations. "
   ]
  },
  {
   "cell_type": "code",
   "execution_count": 1,
   "id": "91f08b6b-9300-4e50-8b81-a25493795f49",
   "metadata": {
    "execution": {
     "iopub.execute_input": "2022-09-17T20:26:16.206503Z",
     "iopub.status.busy": "2022-09-17T20:26:16.205836Z",
     "iopub.status.idle": "2022-09-17T20:26:16.273883Z",
     "shell.execute_reply": "2022-09-17T20:26:16.273302Z"
    }
   },
   "outputs": [],
   "source": [
    "import numpy as np"
   ]
  },
  {
   "cell_type": "markdown",
   "id": "278f7dd6-b26d-4ef4-b340-a5b00a7bbbbc",
   "metadata": {
    "tags": []
   },
   "source": [
    "# Setup\n",
    "Let's take the case of graphene and consider (i) the minimal graphene cell (dotted blue) and (ii) a hypothetical magnetic unit cell (in black). We will define the constant $a$ to be the length of one side of a hexagon."
   ]
  },
  {
   "cell_type": "markdown",
   "id": "164baa49-c4d8-4d3e-b77c-a5cfe890a990",
   "metadata": {
    "tags": []
   },
   "source": [
    "<img src=\"unit_cells.png\">"
   ]
  },
  {
   "cell_type": "markdown",
   "id": "66d91d31-80b1-4510-be40-85d3e4385bcf",
   "metadata": {
    "tags": []
   },
   "source": [
    "# Graphene lattice\n",
    "Let's start with the minimal graphene cell and write down the lattice vectors."
   ]
  },
  {
   "cell_type": "code",
   "execution_count": 2,
   "id": "49b3f2e9-7f58-44d6-aa60-38f1bc18c928",
   "metadata": {
    "execution": {
     "iopub.execute_input": "2022-09-17T20:26:16.278174Z",
     "iopub.status.busy": "2022-09-17T20:26:16.276420Z",
     "iopub.status.idle": "2022-09-17T20:26:16.280225Z",
     "shell.execute_reply": "2022-09-17T20:26:16.280771Z"
    }
   },
   "outputs": [],
   "source": [
    "a = 1\n",
    "a1 = a*np.array([np.sqrt(3),     0])\n",
    "a2 = a*np.array([-np.sqrt(3)/2, 3/2])"
   ]
  },
  {
   "cell_type": "markdown",
   "id": "d48b68f7-3310-4970-8a89-9d9f5b7bb22e",
   "metadata": {},
   "source": [
    "A useful matrix-based way to find the reciprocal lattice vectors is the following:"
   ]
  },
  {
   "cell_type": "code",
   "execution_count": 3,
   "id": "bea6a958-74b6-48af-87ea-ddf91d2b311b",
   "metadata": {
    "execution": {
     "iopub.execute_input": "2022-09-17T20:26:16.285980Z",
     "iopub.status.busy": "2022-09-17T20:26:16.285365Z",
     "iopub.status.idle": "2022-09-17T20:26:16.289858Z",
     "shell.execute_reply": "2022-09-17T20:26:16.289426Z"
    }
   },
   "outputs": [
    {
     "name": "stdout",
     "output_type": "stream",
     "text": [
      "b1=2π([0.57735027 0.33333333])\n",
      "b2=2π([0.         0.66666667])\n"
     ]
    }
   ],
   "source": [
    "A = np.vstack((a1, a2)).T\n",
    "B = 2*np.pi*np.transpose(np.linalg.inv(A))\n",
    "\n",
    "b1 = B[:, 0]\n",
    "b2 = B[:, 1]\n",
    "\n",
    "print(f\"b1=2π({b1/(2*np.pi)})\")\n",
    "print(f\"b2=2π({b2/(2*np.pi)})\")"
   ]
  },
  {
   "cell_type": "markdown",
   "id": "0a4fac44-ab61-4cfb-9e24-35a37380aab9",
   "metadata": {},
   "source": [
    "The volume of the BZ can be determined using a matrix determinant. Let's further confirm consistency with the analytical values for the volume determined on paper."
   ]
  },
  {
   "cell_type": "code",
   "execution_count": 4,
   "id": "f4b6e01f-a38c-48fc-9cdc-c12225432906",
   "metadata": {
    "execution": {
     "iopub.execute_input": "2022-09-17T20:26:16.298487Z",
     "iopub.status.busy": "2022-09-17T20:26:16.297244Z",
     "iopub.status.idle": "2022-09-17T20:26:16.301197Z",
     "shell.execute_reply": "2022-09-17T20:26:16.301761Z"
    }
   },
   "outputs": [
    {
     "data": {
      "text/plain": [
       "True"
      ]
     },
     "execution_count": 1,
     "metadata": {},
     "output_type": "execute_result"
    }
   ],
   "source": [
    "np.isclose(np.linalg.det(B), (4*np.pi**2)*2/(3*np.sqrt(3)))"
   ]
  },
  {
   "cell_type": "markdown",
   "id": "88193df7-101b-4f43-a92f-a04fc4b3ca2a",
   "metadata": {},
   "source": [
    "# Magnetic lattice\n",
    "The same exercise can be done for the magnetic cell as follows"
   ]
  },
  {
   "cell_type": "code",
   "execution_count": 5,
   "id": "932a5ba8-2afc-49ec-8f9a-9f54e1ece6f0",
   "metadata": {
    "execution": {
     "iopub.execute_input": "2022-09-17T20:26:16.307177Z",
     "iopub.status.busy": "2022-09-17T20:26:16.306682Z",
     "iopub.status.idle": "2022-09-17T20:26:16.309547Z",
     "shell.execute_reply": "2022-09-17T20:26:16.309084Z"
    }
   },
   "outputs": [
    {
     "name": "stdout",
     "output_type": "stream",
     "text": [
      "b1m=2π([0.57735027 0.        ])\n",
      "b2m=2π([0.         0.33333333])\n"
     ]
    }
   ],
   "source": [
    "a1m = a*np.array([np.sqrt(3),     0])\n",
    "a2m = a*np.array([0, 3])\n",
    "Am = np.vstack((a1m, a2m)).T\n",
    "\n",
    "Bm = 2*np.pi*np.transpose(np.linalg.inv(Am))\n",
    "\n",
    "\n",
    "b1m = Bm[:, 0]\n",
    "b2m = Bm[:, 1]\n",
    "\n",
    "print(f\"b1m=2π({b1m/(2*np.pi)})\")\n",
    "print(f\"b2m=2π({b2m/(2*np.pi)})\")"
   ]
  },
  {
   "cell_type": "markdown",
   "id": "6597d762-67b3-4bd1-b3e1-e14d037b2e88",
   "metadata": {},
   "source": [
    "Confirm that magnetic Brillouin zone is half the size of the regular cell."
   ]
  },
  {
   "cell_type": "code",
   "execution_count": 6,
   "id": "bc811512-2d41-4ff8-8560-1aadad547aa4",
   "metadata": {
    "execution": {
     "iopub.execute_input": "2022-09-17T20:26:16.313960Z",
     "iopub.status.busy": "2022-09-17T20:26:16.313274Z",
     "iopub.status.idle": "2022-09-17T20:26:16.318314Z",
     "shell.execute_reply": "2022-09-17T20:26:16.317778Z"
    }
   },
   "outputs": [
    {
     "data": {
      "text/plain": [
       "0.5000000000000002"
      ]
     },
     "execution_count": 1,
     "metadata": {},
     "output_type": "execute_result"
    }
   ],
   "source": [
    "np.linalg.det(Bm) / np.linalg.det(B)"
   ]
  },
  {
   "cell_type": "markdown",
   "id": "e49941e0-bf83-442d-a70d-0d39d552091f",
   "metadata": {},
   "source": [
    "# Conversion matrix\n",
    "To construct a conversion matrix, work out how to write the new basis vectors (in this case the magnetic cell) in terms of the old basis vectors \n",
    "\n",
    "$b_{1m} = b_1 + b_2/2$  \n",
    "$b_{2m} =  b_2/2$\n",
    "\n",
    "and write these as the columns of a matrix. This matrix converts the new vectors to the old vectors. The converse old to new conversion is obtained via the matrix inverse."
   ]
  },
  {
   "cell_type": "code",
   "execution_count": 7,
   "id": "cc27aaac-747a-48fc-8fdb-24d9782329c0",
   "metadata": {
    "execution": {
     "iopub.execute_input": "2022-09-17T20:26:16.323903Z",
     "iopub.status.busy": "2022-09-17T20:26:16.323231Z",
     "iopub.status.idle": "2022-09-17T20:26:16.326696Z",
     "shell.execute_reply": "2022-09-17T20:26:16.326282Z"
    }
   },
   "outputs": [
    {
     "data": {
      "text/plain": [
       "array([1. , 0.5])"
      ]
     },
     "execution_count": 1,
     "metadata": {},
     "output_type": "execute_result"
    }
   ],
   "source": [
    "Mm2g = np.array([[1,   0],\n",
    "                 [1/2, 1/2]])\n",
    "\n",
    "Mg2m = np.linalg.inv(Mm2g)\n",
    "\n",
    "np.dot(Mm2g, [1, 0])"
   ]
  },
  {
   "cell_type": "markdown",
   "id": "705502c9-3621-4fa9-9589-a1baa57b7d2e",
   "metadata": {},
   "source": [
    "The same matrix approach works to convert from the real-space $a, b, c, \\alpha, \\beta, \\gamma$ unit cell notation to reciprocal space $a^*, b^*, c^*, \\alpha^*, \\beta^*, \\gamma^*$. Here you can see the properties of the metric tensor as describing the dot products between the different basis vectors. "
   ]
  },
  {
   "cell_type": "code",
   "execution_count": 8,
   "id": "78b67fff-4f40-4274-b44b-2f05c492248f",
   "metadata": {
    "execution": {
     "iopub.execute_input": "2022-09-17T20:26:16.336477Z",
     "iopub.status.busy": "2022-09-17T20:26:16.334158Z",
     "iopub.status.idle": "2022-09-17T20:26:16.337005Z",
     "shell.execute_reply": "2022-09-17T20:26:16.337335Z"
    }
   },
   "outputs": [],
   "source": [
    "def sin(angle):\n",
    "    return np.sin(np.deg2rad(angle))\n",
    "\n",
    "\n",
    "def cos(angle):\n",
    "    return np.cos(np.deg2rad(angle))\n",
    "\n",
    "\n",
    "def arccos(value):\n",
    "    return np.rad2deg(np.arccos(value))\n",
    "\n",
    "a = 2\n",
    "b = 2\n",
    "c = 2\n",
    "alpha = 90\n",
    "beta = 100\n",
    "gamma = 90\n",
    "\n",
    "\n",
    "M = np.array([[a**2,           a*b*cos(gamma), a*c*cos(beta)],\n",
    "              [a*b*cos(gamma), b**2,           b*c*cos(alpha)],\n",
    "              [a*c*cos(beta),  b*c*cos(alpha), c**2          ]])\n",
    "\n",
    "Minv = (2*np.pi)**2*np.linalg.inv(M)\n",
    "\n",
    "a_star = np.sqrt(Minv[0, 0])\n",
    "b_star = np.sqrt(Minv[1, 1])\n",
    "c_star = np.sqrt(Minv[2, 2])\n",
    "\n",
    "alpha_star = arccos(Minv[1, 2]/(b_star*c_star))\n",
    "beta_star = arccos(Minv[0, 2]/(a_star*c_star))\n",
    "gamma_star = arccos(Minv[0, 1]/(a_star*b_star))"
   ]
  },
  {
   "cell_type": "code",
   "execution_count": null,
   "id": "9d0c0b0c-3657-423b-a65d-0d32c28d1e5a",
   "metadata": {},
   "outputs": [],
   "source": []
  }
 ],
 "metadata": {
  "kernelspec": {
   "display_name": "Python 3 (ipykernel)",
   "language": "python",
   "name": "python3"
  },
  "language_info": {
   "codemirror_mode": {
    "name": "ipython",
    "version": 3
   },
   "file_extension": ".py",
   "mimetype": "text/x-python",
   "name": "python",
   "nbconvert_exporter": "python",
   "pygments_lexer": "ipython3",
   "version": "3.7.12"
  }
 },
 "nbformat": 4,
 "nbformat_minor": 5
}
